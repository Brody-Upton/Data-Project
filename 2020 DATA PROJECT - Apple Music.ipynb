{
 "cells": [
  {
   "cell_type": "markdown",
   "metadata": {},
   "source": [
    "# Apple Music Data Project\n",
    "\n",
    "This project focuses on a dataset which was requested from apple data privacy and includes various information in relation to my music listening. The aim of the project is to find interesting insights into my music listening habits."
   ]
  },
  {
   "cell_type": "markdown",
   "metadata": {},
   "source": [
    "Readying the workspace with 'imports' and such"
   ]
  },
  {
   "cell_type": "code",
   "execution_count": 1,
   "metadata": {},
   "outputs": [],
   "source": [
    "import matplotlib\n",
    "import matplotlib.pyplot as plt\n",
    "import numpy as np\n",
    "import pandas as pd\n",
    "import os\n",
    "import json\n",
    "\n",
    "%matplotlib inline\n",
    "plt.rcParams['figure.figsize'] = (20, 10)\n",
    "saved_style_state = matplotlib.rcParams.copy()"
   ]
  },
  {
   "cell_type": "markdown",
   "metadata": {},
   "source": [
    "Importing primary dataset into workspace"
   ]
  },
  {
   "cell_type": "code",
   "execution_count": 3,
   "metadata": {},
   "outputs": [
    {
     "output_type": "execute_result",
     "data": {
      "text/plain": "     Content Type  Track Identifier  \\\n0            Song         182857262   \n1            Song         182857266   \n2            Song         182857270   \n3            Song         182857474   \n4            Song         182857478   \n...           ...               ...   \n2064         Song         182895118   \n2065         Song         182895122   \n2066         Song         182895126   \n2067         Song         182895130   \n2068         Song         182895134   \n\n                                            Title  \\\n0                             The Library (Intro)   \n1                                        I. Crawl   \n2                                   II. Worldstar   \n3                                         Dial Up   \n4     I. The Worst Guys (feat. Chance the Rapper)   \n...                                           ...   \n2064                                    All Night   \n2065                            Rover (feat. DTG)   \n2066                                           21   \n2067                Tommy Lee (feat. Post Malone)   \n2068                               High Right Now   \n\n                                        Sort Name              Artist  \\\n0                                 Library (Intro)    Childish Gambino   \n1                                        I. Crawl    Childish Gambino   \n2                                   II. Worldstar    Childish Gambino   \n3                                         Dial Up    Childish Gambino   \n4     I. The Worst Guys (feat. Chance the Rapper)    Childish Gambino   \n...                                           ...                 ...   \n2064                                    All Night  The Vamps & Matoma   \n2065                            Rover (feat. DTG)               S1mba   \n2066                                           21              Polo G   \n2067                Tommy Lee (feat. Post Malone)          Tyla Yaweh   \n2068                               High Right Now          Tyla Yaweh   \n\n           Sort Artist  Is Part of Compilation  \\\n0     Childish Gambino                   False   \n1     Childish Gambino                   False   \n2     Childish Gambino                   False   \n3     Childish Gambino                   False   \n4     Childish Gambino                   False   \n...                ...                     ...   \n2064    Vamps & Matoma                   False   \n2065             S1mba                   False   \n2066            Polo G                   False   \n2067        Tyla Yaweh                   False   \n2068        Tyla Yaweh                   False   \n\n                                             Album  \\\n0                             Because the Internet   \n1                             Because the Internet   \n2                             Because the Internet   \n3                             Because the Internet   \n4                             Because the Internet   \n...                                            ...   \n2064  Night & Day (Night Edition) [Deluxe Version]   \n2065                    Rover (feat. DTG) - Single   \n2066                                      THE GOAT   \n2067        Tommy Lee (feat. Post Malone) - Single   \n2068                            Heart Full of Rage   \n\n                                        Sort Album      Album Artist  ...  \\\n0                             Because the Internet  Childish Gambino  ...   \n1                             Because the Internet  Childish Gambino  ...   \n2                             Because the Internet  Childish Gambino  ...   \n3                             Because the Internet  Childish Gambino  ...   \n4                             Because the Internet  Childish Gambino  ...   \n...                                            ...               ...  ...   \n2064  Night & Day (Night Edition) [Deluxe Version]         The Vamps  ...   \n2065                    Rover (feat. DTG) - Single             S1mba  ...   \n2066                                          GOAT            Polo G  ...   \n2067        Tommy Lee (feat. Post Malone) - Single        Tyla Yaweh  ...   \n2068                            Heart Full of Rage        Tyla Yaweh  ...   \n\n     Album Like Rating  Comments  Purchase Date  Rating  Album Rating  \\\n0                  NaN       NaN            NaN     NaN           NaN   \n1                  NaN       NaN            NaN     NaN           NaN   \n2                  NaN       NaN            NaN     NaN           NaN   \n3                  NaN       NaN            NaN     NaN           NaN   \n4                  NaN       NaN            NaN     NaN           NaN   \n...                ...       ...            ...     ...           ...   \n2064               NaN       NaN            NaN     NaN           NaN   \n2065               NaN       NaN            NaN     NaN           NaN   \n2066               NaN       NaN            NaN     NaN           NaN   \n2067               NaN       NaN            NaN     NaN           NaN   \n2068               NaN       NaN            NaN     NaN           NaN   \n\n      Remember Playback Position  Album Rating Method  Playlist Only Track  \\\n0                            NaN                  NaN                  NaN   \n1                            NaN                  NaN                  NaN   \n2                            NaN                  NaN                  NaN   \n3                            NaN                  NaN                  NaN   \n4                            NaN                  NaN                  NaN   \n...                          ...                  ...                  ...   \n2064                         NaN                  NaN                  NaN   \n2065                         NaN                  NaN                  NaN   \n2066                         NaN                  NaN                  NaN   \n2067                         NaN                  NaN                  NaN   \n2068                         NaN                  NaN                  NaN   \n\n     Display Work Name Grouping  \n0                  NaN      NaN  \n1                  NaN      NaN  \n2                  NaN      NaN  \n3                  NaN      NaN  \n4                  NaN      NaN  \n...                ...      ...  \n2064               NaN      NaN  \n2065               NaN      NaN  \n2066               NaN      NaN  \n2067               NaN      NaN  \n2068               NaN      NaN  \n\n[2069 rows x 44 columns]",
      "text/html": "<div>\n<style scoped>\n    .dataframe tbody tr th:only-of-type {\n        vertical-align: middle;\n    }\n\n    .dataframe tbody tr th {\n        vertical-align: top;\n    }\n\n    .dataframe thead th {\n        text-align: right;\n    }\n</style>\n<table border=\"1\" class=\"dataframe\">\n  <thead>\n    <tr style=\"text-align: right;\">\n      <th></th>\n      <th>Content Type</th>\n      <th>Track Identifier</th>\n      <th>Title</th>\n      <th>Sort Name</th>\n      <th>Artist</th>\n      <th>Sort Artist</th>\n      <th>Is Part of Compilation</th>\n      <th>Album</th>\n      <th>Sort Album</th>\n      <th>Album Artist</th>\n      <th>...</th>\n      <th>Album Like Rating</th>\n      <th>Comments</th>\n      <th>Purchase Date</th>\n      <th>Rating</th>\n      <th>Album Rating</th>\n      <th>Remember Playback Position</th>\n      <th>Album Rating Method</th>\n      <th>Playlist Only Track</th>\n      <th>Display Work Name</th>\n      <th>Grouping</th>\n    </tr>\n  </thead>\n  <tbody>\n    <tr>\n      <th>0</th>\n      <td>Song</td>\n      <td>182857262</td>\n      <td>The Library (Intro)</td>\n      <td>Library (Intro)</td>\n      <td>Childish Gambino</td>\n      <td>Childish Gambino</td>\n      <td>False</td>\n      <td>Because the Internet</td>\n      <td>Because the Internet</td>\n      <td>Childish Gambino</td>\n      <td>...</td>\n      <td>NaN</td>\n      <td>NaN</td>\n      <td>NaN</td>\n      <td>NaN</td>\n      <td>NaN</td>\n      <td>NaN</td>\n      <td>NaN</td>\n      <td>NaN</td>\n      <td>NaN</td>\n      <td>NaN</td>\n    </tr>\n    <tr>\n      <th>1</th>\n      <td>Song</td>\n      <td>182857266</td>\n      <td>I. Crawl</td>\n      <td>I. Crawl</td>\n      <td>Childish Gambino</td>\n      <td>Childish Gambino</td>\n      <td>False</td>\n      <td>Because the Internet</td>\n      <td>Because the Internet</td>\n      <td>Childish Gambino</td>\n      <td>...</td>\n      <td>NaN</td>\n      <td>NaN</td>\n      <td>NaN</td>\n      <td>NaN</td>\n      <td>NaN</td>\n      <td>NaN</td>\n      <td>NaN</td>\n      <td>NaN</td>\n      <td>NaN</td>\n      <td>NaN</td>\n    </tr>\n    <tr>\n      <th>2</th>\n      <td>Song</td>\n      <td>182857270</td>\n      <td>II. Worldstar</td>\n      <td>II. Worldstar</td>\n      <td>Childish Gambino</td>\n      <td>Childish Gambino</td>\n      <td>False</td>\n      <td>Because the Internet</td>\n      <td>Because the Internet</td>\n      <td>Childish Gambino</td>\n      <td>...</td>\n      <td>NaN</td>\n      <td>NaN</td>\n      <td>NaN</td>\n      <td>NaN</td>\n      <td>NaN</td>\n      <td>NaN</td>\n      <td>NaN</td>\n      <td>NaN</td>\n      <td>NaN</td>\n      <td>NaN</td>\n    </tr>\n    <tr>\n      <th>3</th>\n      <td>Song</td>\n      <td>182857474</td>\n      <td>Dial Up</td>\n      <td>Dial Up</td>\n      <td>Childish Gambino</td>\n      <td>Childish Gambino</td>\n      <td>False</td>\n      <td>Because the Internet</td>\n      <td>Because the Internet</td>\n      <td>Childish Gambino</td>\n      <td>...</td>\n      <td>NaN</td>\n      <td>NaN</td>\n      <td>NaN</td>\n      <td>NaN</td>\n      <td>NaN</td>\n      <td>NaN</td>\n      <td>NaN</td>\n      <td>NaN</td>\n      <td>NaN</td>\n      <td>NaN</td>\n    </tr>\n    <tr>\n      <th>4</th>\n      <td>Song</td>\n      <td>182857478</td>\n      <td>I. The Worst Guys (feat. Chance the Rapper)</td>\n      <td>I. The Worst Guys (feat. Chance the Rapper)</td>\n      <td>Childish Gambino</td>\n      <td>Childish Gambino</td>\n      <td>False</td>\n      <td>Because the Internet</td>\n      <td>Because the Internet</td>\n      <td>Childish Gambino</td>\n      <td>...</td>\n      <td>NaN</td>\n      <td>NaN</td>\n      <td>NaN</td>\n      <td>NaN</td>\n      <td>NaN</td>\n      <td>NaN</td>\n      <td>NaN</td>\n      <td>NaN</td>\n      <td>NaN</td>\n      <td>NaN</td>\n    </tr>\n    <tr>\n      <th>...</th>\n      <td>...</td>\n      <td>...</td>\n      <td>...</td>\n      <td>...</td>\n      <td>...</td>\n      <td>...</td>\n      <td>...</td>\n      <td>...</td>\n      <td>...</td>\n      <td>...</td>\n      <td>...</td>\n      <td>...</td>\n      <td>...</td>\n      <td>...</td>\n      <td>...</td>\n      <td>...</td>\n      <td>...</td>\n      <td>...</td>\n      <td>...</td>\n      <td>...</td>\n      <td>...</td>\n    </tr>\n    <tr>\n      <th>2064</th>\n      <td>Song</td>\n      <td>182895118</td>\n      <td>All Night</td>\n      <td>All Night</td>\n      <td>The Vamps &amp; Matoma</td>\n      <td>Vamps &amp; Matoma</td>\n      <td>False</td>\n      <td>Night &amp; Day (Night Edition) [Deluxe Version]</td>\n      <td>Night &amp; Day (Night Edition) [Deluxe Version]</td>\n      <td>The Vamps</td>\n      <td>...</td>\n      <td>NaN</td>\n      <td>NaN</td>\n      <td>NaN</td>\n      <td>NaN</td>\n      <td>NaN</td>\n      <td>NaN</td>\n      <td>NaN</td>\n      <td>NaN</td>\n      <td>NaN</td>\n      <td>NaN</td>\n    </tr>\n    <tr>\n      <th>2065</th>\n      <td>Song</td>\n      <td>182895122</td>\n      <td>Rover (feat. DTG)</td>\n      <td>Rover (feat. DTG)</td>\n      <td>S1mba</td>\n      <td>S1mba</td>\n      <td>False</td>\n      <td>Rover (feat. DTG) - Single</td>\n      <td>Rover (feat. DTG) - Single</td>\n      <td>S1mba</td>\n      <td>...</td>\n      <td>NaN</td>\n      <td>NaN</td>\n      <td>NaN</td>\n      <td>NaN</td>\n      <td>NaN</td>\n      <td>NaN</td>\n      <td>NaN</td>\n      <td>NaN</td>\n      <td>NaN</td>\n      <td>NaN</td>\n    </tr>\n    <tr>\n      <th>2066</th>\n      <td>Song</td>\n      <td>182895126</td>\n      <td>21</td>\n      <td>21</td>\n      <td>Polo G</td>\n      <td>Polo G</td>\n      <td>False</td>\n      <td>THE GOAT</td>\n      <td>GOAT</td>\n      <td>Polo G</td>\n      <td>...</td>\n      <td>NaN</td>\n      <td>NaN</td>\n      <td>NaN</td>\n      <td>NaN</td>\n      <td>NaN</td>\n      <td>NaN</td>\n      <td>NaN</td>\n      <td>NaN</td>\n      <td>NaN</td>\n      <td>NaN</td>\n    </tr>\n    <tr>\n      <th>2067</th>\n      <td>Song</td>\n      <td>182895130</td>\n      <td>Tommy Lee (feat. Post Malone)</td>\n      <td>Tommy Lee (feat. Post Malone)</td>\n      <td>Tyla Yaweh</td>\n      <td>Tyla Yaweh</td>\n      <td>False</td>\n      <td>Tommy Lee (feat. Post Malone) - Single</td>\n      <td>Tommy Lee (feat. Post Malone) - Single</td>\n      <td>Tyla Yaweh</td>\n      <td>...</td>\n      <td>NaN</td>\n      <td>NaN</td>\n      <td>NaN</td>\n      <td>NaN</td>\n      <td>NaN</td>\n      <td>NaN</td>\n      <td>NaN</td>\n      <td>NaN</td>\n      <td>NaN</td>\n      <td>NaN</td>\n    </tr>\n    <tr>\n      <th>2068</th>\n      <td>Song</td>\n      <td>182895134</td>\n      <td>High Right Now</td>\n      <td>High Right Now</td>\n      <td>Tyla Yaweh</td>\n      <td>Tyla Yaweh</td>\n      <td>False</td>\n      <td>Heart Full of Rage</td>\n      <td>Heart Full of Rage</td>\n      <td>Tyla Yaweh</td>\n      <td>...</td>\n      <td>NaN</td>\n      <td>NaN</td>\n      <td>NaN</td>\n      <td>NaN</td>\n      <td>NaN</td>\n      <td>NaN</td>\n      <td>NaN</td>\n      <td>NaN</td>\n      <td>NaN</td>\n      <td>NaN</td>\n    </tr>\n  </tbody>\n</table>\n<p>2069 rows × 44 columns</p>\n</div>"
     },
     "metadata": {},
     "execution_count": 3
    }
   ],
   "source": [
    "csv_filepath = 'Apple Music Play Activity.csv'\n",
    "music_data = pd.read_csv(csv_filepath)\n",
    "music_data\n",
    "\n",
    "json_filepath = 'Apple Music Library Tracks.json'\n",
    "json_data = pd.read_json(json_filepath)\n",
    "json_data"
   ]
  },
  {
   "cell_type": "code",
   "execution_count": 4,
   "metadata": {},
   "outputs": [
    {
     "output_type": "execute_result",
     "data": {
      "text/plain": "Index(['Apple Id Number', 'Apple Music Subscription', 'Artist Name',\n       'Build Version', 'Client IP Address', 'Content Name',\n       'Content Provider', 'Content Specific Type', 'Device Identifier',\n       'End Position In Milliseconds', 'End Reason Type',\n       'Event End Timestamp', 'Event Reason Hint Type',\n       'Event Received Timestamp', 'Event Start Timestamp', 'Event Type',\n       'Feature Name', 'Genre', 'Item Type', 'Media Duration In Milliseconds',\n       'Media Type', 'Metrics Bucket Id', 'Metrics Client Id',\n       'Milliseconds Since Play', 'Offline', 'Original Title',\n       'Play Duration Milliseconds', 'Source Type',\n       'Start Position In Milliseconds', 'Store Country Name',\n       'UTC Offset In Seconds'],\n      dtype='object')"
     },
     "metadata": {},
     "execution_count": 4
    }
   ],
   "source": [
    "music_data.columns"
   ]
  },
  {
   "cell_type": "code",
   "execution_count": 5,
   "metadata": {},
   "outputs": [
    {
     "output_type": "error",
     "ename": "TypeError",
     "evalue": "string indices must be integers",
     "traceback": [
      "\u001b[1;31m---------------------------------------------------------------------------\u001b[0m",
      "\u001b[1;31mTypeError\u001b[0m                                 Traceback (most recent call last)",
      "\u001b[1;32m<ipython-input-5-c0b587a85560>\u001b[0m in \u001b[0;36m<module>\u001b[1;34m\u001b[0m\n\u001b[0;32m      1\u001b[0m \u001b[0mlistens\u001b[0m \u001b[1;33m=\u001b[0m \u001b[1;33m[\u001b[0m\u001b[1;33m]\u001b[0m\u001b[1;33m\u001b[0m\u001b[1;33m\u001b[0m\u001b[0m\n\u001b[0;32m      2\u001b[0m \u001b[1;32mfor\u001b[0m \u001b[0msong\u001b[0m \u001b[1;32min\u001b[0m \u001b[0mjson_data\u001b[0m\u001b[1;33m:\u001b[0m\u001b[1;33m\u001b[0m\u001b[1;33m\u001b[0m\u001b[0m\n\u001b[1;32m----> 3\u001b[1;33m     \u001b[0mplay_count\u001b[0m \u001b[1;33m=\u001b[0m \u001b[0msong\u001b[0m\u001b[1;33m[\u001b[0m\u001b[1;34m\"Track Play Count\"\u001b[0m\u001b[1;33m]\u001b[0m\u001b[1;33m\u001b[0m\u001b[1;33m\u001b[0m\u001b[0m\n\u001b[0m\u001b[0;32m      4\u001b[0m     \u001b[0mlistens\u001b[0m\u001b[1;33m.\u001b[0m\u001b[0mappend\u001b[0m\u001b[1;33m(\u001b[0m\u001b[0mplay_count\u001b[0m\u001b[1;33m)\u001b[0m\u001b[1;33m\u001b[0m\u001b[1;33m\u001b[0m\u001b[0m\n\u001b[0;32m      5\u001b[0m \u001b[1;33m\u001b[0m\u001b[0m\n",
      "\u001b[1;31mTypeError\u001b[0m: string indices must be integers"
     ]
    }
   ],
   "source": [
    "listens = []\n",
    "for song in json_data:\n",
    "    play_count = song[\"Track Play Count\"]\n",
    "    listens.append(play_count)\n",
    "\n",
    "sorted_listens = listens.sort()\n"
   ]
  },
  {
   "cell_type": "code",
   "execution_count": null,
   "metadata": {},
   "outputs": [],
   "source": []
  }
 ],
 "metadata": {
  "kernelspec": {
   "display_name": "Python 3",
   "language": "python",
   "name": "python3"
  },
  "language_info": {
   "codemirror_mode": {
    "name": "ipython",
    "version": 3
   },
   "file_extension": ".py",
   "mimetype": "text/x-python",
   "name": "python",
   "nbconvert_exporter": "python",
   "pygments_lexer": "ipython3",
   "version": "3.7.6"
  }
 },
 "nbformat": 4,
 "nbformat_minor": 4
}